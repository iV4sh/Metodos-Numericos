{
 "cells": [
  {
   "cell_type": "markdown",
   "metadata": {},
   "source": [
    "# Taller[4]\n",
    "## Mínimos Cuadrados\n",
    "\n",
    "* Nombre: Michael Enríquez\n",
    "* Fecha: 14 de Diciembre, 2024"
   ]
  },
  {
   "cell_type": "code",
   "execution_count": 1,
   "metadata": {},
   "outputs": [],
   "source": [
    "from ipywidgets import interact\n",
    "import matplotlib.pyplot as plt\n",
    "import numpy as np\n",
    "\n",
    "\n",
    "p1 = (5.4, 3.2)\n",
    "p3 = (12.3, -3.6)"
   ]
  },
  {
   "cell_type": "code",
   "execution_count": 2,
   "metadata": {},
   "outputs": [
    {
     "data": {
      "application/vnd.jupyter.widget-view+json": {
       "model_id": "cd3e30a047a748da9cf59abfea6597dc",
       "version_major": 2,
       "version_minor": 0
      },
      "text/plain": [
       "interactive(children=(FloatSlider(value=8.9, description='p2_x', max=12.3, min=5.5), FloatSlider(value=0.0, de…"
      ]
     },
     "metadata": {},
     "output_type": "display_data"
    }
   ],
   "source": [
    "def update_plot(p2_x, p2_y):\n",
    "    p2 = (p2_x, p2_y)\n",
    "    \n",
    "    x_coords = [p1[0], p2[0], p3[0]]\n",
    "    y_coords = [p1[1], p2[1], p3[1]]\n",
    "\n",
    "    m, b = np.polyfit(x_coords, y_coords, 1)\n",
    "\n",
    "    plt.figure(figsize=(10, 6))\n",
    "    plt.scatter(x_coords, y_coords, color=\"red\")\n",
    "    \n",
    "    x_line = np.linspace(min(x_coords), max(x_coords), 100)\n",
    "    y_line = m * x_line + b\n",
    "    plt.plot(x_line, y_line, color=\"blue\")\n",
    "    \n",
    "    plt.xlabel(\"X\")\n",
    "    plt.ylabel(\"Y\")\n",
    "    plt.title(f\"Points and Line Plot\")\n",
    "    plt.show()\n",
    "\n",
    "_ = interact(update_plot, p2_x=(5.5, 12.3, 0.1), p2_y=(-10.0, 10.0, 0.1))\n"
   ]
  }
 ],
 "metadata": {
  "kernelspec": {
   "display_name": "Python 3",
   "language": "python",
   "name": "python3"
  },
  "language_info": {
   "codemirror_mode": {
    "name": "ipython",
    "version": 3
   },
   "file_extension": ".py",
   "mimetype": "text/x-python",
   "name": "python",
   "nbconvert_exporter": "python",
   "pygments_lexer": "ipython3",
   "version": "3.10.0"
  }
 },
 "nbformat": 4,
 "nbformat_minor": 2
}
