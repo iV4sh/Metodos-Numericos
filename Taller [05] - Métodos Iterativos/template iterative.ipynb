{
 "cells": [
  {
   "cell_type": "markdown",
   "metadata": {},
   "source": [
    "# Actividad en clase\n",
    "## Gauss Jacobi y Gauss Seidel\n",
    "\n",
    "+ **Nombre:** Michael Enríquez\n",
    "+ **Fecha:** Sabado 25 de enero, 2025\n",
    "\n",
    "\n",
    "* Resolver Para el siguiente sistema de ecuaciones:\n",
    "\n",
    "$$\n",
    "2x_1 + 10x_2 = 16 \\\\\n",
    "3x_1 + 2x_2 = 11 \n",
    "$$"
   ]
  },
  {
   "cell_type": "code",
   "execution_count": 71,
   "metadata": {},
   "outputs": [
    {
     "name": "stdout",
     "output_type": "stream",
     "text": [
      "The autoreload extension is already loaded. To reload it, use:\n",
      "  %reload_ext autoreload\n"
     ]
    }
   ],
   "source": [
    "%load_ext autoreload"
   ]
  },
  {
   "cell_type": "code",
   "execution_count": 72,
   "metadata": {},
   "outputs": [],
   "source": [
    "%autoreload 2\n",
    "from src import gauss_jacobi, gauss_seidel\n"
   ]
  },
  {
   "cell_type": "code",
   "execution_count": 73,
   "metadata": {},
   "outputs": [
    {
     "name": "stdout",
     "output_type": "stream",
     "text": [
      "[01-25 08:29:10][INFO] i= 0 x: [0 0]\n",
      "[01-25 08:29:10][INFO] i= 1 x: [[3.66666667 1.6       ]]\n",
      "[01-25 08:29:10][INFO] i= 2 x: [[2.6        0.86666667]]\n",
      "[01-25 08:29:10][INFO] i= 3 x: [[3.08888889 1.08      ]]\n",
      "[01-25 08:29:10][INFO] i= 4 x: [[2.94666667 0.98222222]]\n",
      "[01-25 08:29:10][INFO] i= 5 x: [[3.01185185 1.01066667]]\n",
      "[01-25 08:29:10][INFO] i= 6 x: [[2.99288889 0.99762963]]\n",
      "[01-25 08:29:10][INFO] i= 7 x: [[3.00158025 1.00142222]]\n",
      "[01-25 08:29:10][INFO] i= 8 x: [[2.99905185 0.99968395]]\n",
      "[01-25 08:29:10][INFO] i= 9 x: [[3.0002107  1.00018963]]\n",
      "[01-25 08:29:10][INFO] i= 10 x: [[2.99987358 0.99995786]]\n",
      "[01-25 08:29:10][INFO] i= 11 x: [[3.00002809 1.00002528]]\n",
      "[01-25 08:29:10][INFO] i= 12 x: [[2.99998314 0.99999438]]\n",
      "[01-25 08:29:10][INFO] i= 13 x: [[3.00000375 1.00000337]]\n",
      "[01-25 08:29:10][INFO] i= 14 x: [[2.99999775 0.99999925]]\n",
      "[01-25 08:29:10][INFO] i= 15 x: [[3.0000005  1.00000045]]\n",
      "[01-25 08:29:10][INFO] i= 16 x: [[2.9999997 0.9999999]]\n",
      "[01-25 08:29:10][INFO] i= 17 x: [[3.00000007 1.00000006]]\n",
      "[01-25 08:29:10][INFO] i= 18 x: [[2.99999996 0.99999999]]\n",
      "[01-25 08:29:10][INFO] i= 19 x: [[3.00000001 1.00000001]]\n",
      "[01-25 08:29:10][INFO] i= 20 x: [[2.99999999 1.        ]]\n",
      "[01-25 08:29:10][INFO] i= 21 x: [[3. 1.]]\n",
      "Solución: [[3.]\n",
      " [1.]]\n",
      "Trayectoria de las soluciones en cada iteración: [array([0, 0]), array([[3.66666667],\n",
      "       [1.6       ]]), array([[2.6       ],\n",
      "       [0.86666667]]), array([[3.08888889],\n",
      "       [1.08      ]]), array([[2.94666667],\n",
      "       [0.98222222]]), array([[3.01185185],\n",
      "       [1.01066667]]), array([[2.99288889],\n",
      "       [0.99762963]]), array([[3.00158025],\n",
      "       [1.00142222]]), array([[2.99905185],\n",
      "       [0.99968395]]), array([[3.0002107 ],\n",
      "       [1.00018963]]), array([[2.99987358],\n",
      "       [0.99995786]]), array([[3.00002809],\n",
      "       [1.00002528]]), array([[2.99998314],\n",
      "       [0.99999438]]), array([[3.00000375],\n",
      "       [1.00000337]]), array([[2.99999775],\n",
      "       [0.99999925]]), array([[3.0000005 ],\n",
      "       [1.00000045]]), array([[2.9999997],\n",
      "       [0.9999999]]), array([[3.00000007],\n",
      "       [1.00000006]]), array([[2.99999996],\n",
      "       [0.99999999]]), array([[3.00000001],\n",
      "       [1.00000001]]), array([[2.99999999],\n",
      "       [1.        ]]), array([[3.],\n",
      "       [1.]])]\n"
     ]
    }
   ],
   "source": [
    "import numpy as np\n",
    "import matplotlib.pyplot as plt\n",
    "\n",
    "A = np.array([[3, 2],[2, 10]])\n",
    "b = np.array([11, 16])\n",
    "\n",
    "x0 = np.zeros_like(b)\n",
    "\n",
    "tol = 10e-10\n",
    "max_iter = 22\n",
    "\n",
    "x, trace = gauss_jacobi(A=A, b=b, x0=x0, tol=tol, max_iter=max_iter)\n",
    "\n",
    "print(\"Solución:\", x)\n",
    "print(\"Trayectoria de las soluciones en cada iteración:\", trace)"
   ]
  },
  {
   "cell_type": "code",
   "execution_count": 74,
   "metadata": {},
   "outputs": [
    {
     "name": "stdout",
     "output_type": "stream",
     "text": [
      "[01-25 08:29:10][INFO] i= 0 x: [[1. 1.]]\n",
      "[01-25 08:29:10][INFO] i= 1 x: [[3. 1.]]\n",
      "Solución: [[3.]\n",
      " [1.]]\n",
      "Trayectoria de las soluciones en cada iteración: [array([[1.],\n",
      "       [1.]]), array([[3.],\n",
      "       [1.]])]\n"
     ]
    }
   ],
   "source": [
    "x, trace = gauss_seidel(A=A, b=b, x0=(1,1), tol=10e-7, max_iter=3)\n",
    "\n",
    "# Mostrar los resultados\n",
    "print(\"Solución:\", x)\n",
    "print(\"Trayectoria de las soluciones en cada iteración:\", trace)"
   ]
  }
 ],
 "metadata": {
  "kernelspec": {
   "display_name": "Python 3",
   "language": "python",
   "name": "python3"
  },
  "language_info": {
   "codemirror_mode": {
    "name": "ipython",
    "version": 3
   },
   "file_extension": ".py",
   "mimetype": "text/x-python",
   "name": "python",
   "nbconvert_exporter": "python",
   "pygments_lexer": "ipython3",
   "version": "3.10.0"
  }
 },
 "nbformat": 4,
 "nbformat_minor": 2
}
