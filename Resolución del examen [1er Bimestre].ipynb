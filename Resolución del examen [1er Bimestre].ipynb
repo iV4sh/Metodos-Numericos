{
 "cells": [
  {
   "cell_type": "markdown",
   "id": "4762c926-0caa-4426-8d62-fe78c945ed30",
   "metadata": {},
   "source": [
    "<div style=\"text-align: center;\">\n",
    "    \n",
    "# **Corección del Examen - Métodos Numéricos**\n",
    "</div>  \n",
    "<div style=\"text-align: center;\">\n",
    "    \n",
    "## **Primer Bimestre**\n",
    "</div> \n",
    "\n",
    "* Nombre: Michael Enríquez\n",
    "* Fecha: 10 de diciembre, 2024\n",
    "* Paralelo: GR1CC"
   ]
  },
  {
   "cell_type": "markdown",
   "id": "6bf6cdfb-d06f-4f6d-8d9b-84a7ac6a496d",
   "metadata": {},
   "source": [
    "---\n",
    "\n",
    "## **Ejercicio N°1**\n",
    "\n",
    "Suponga que dos puntos $(x_0, y_0)$ y $(x_1, y_1)$ se encuentran en línea recta con $y_1 \\\\neq y_0$. Existen dos formulas para encontrar la interseccion en un punto **x**.  \n",
    "**Metodo A:**\n",
    "$$\n",
    "x = \\frac{x_0 \\times y_1 - x_1 \\times y_0}{y_1 - y_0}\n",
    "$$\n",
    "**Metodo B:**\n",
    "$$\n",
    "x = x_0 - \\frac{(x_1 - x_0) \\times y_0}{y_1 - y_0}\n",
    "$$\n",
    "\n",
    "Usando los datos (x0,y0)=(1.31,3.24)    (x1,y1)=(1.93,4.76, , determine el valor real de la intersección \r\n",
    " (asumiendo redondeo a 6 cifras significativas):"
   ]
  },
  {
   "cell_type": "code",
   "execution_count": 22,
   "id": "3d32ad41-033d-41ca-b128-bf265220a5cd",
   "metadata": {},
   "outputs": [
    {
     "name": "stdout",
     "output_type": "stream",
     "text": [
      "El valor de x es: -0.011579\n"
     ]
    }
   ],
   "source": [
    "x = [1.31, 1.93]\n",
    "y = [3.24, 4.76]\n",
    "\n",
    "# Usamos el método A para calcular la intersección en x\n",
    "Resul = (x[0] * y[1] - x[1] * y[0]) / (y[1] - y[0])\n",
    "\n",
    "# Redondeamos el resultado a 6 cifras significativas\n",
    "Resul = round(Resul, 6)\n",
    "\n",
    "# Mostramos el resultado\n",
    "print(\"El valor de x es:\", Resul)\n"
   ]
  },
  {
   "cell_type": "markdown",
   "id": "34d7646b-8c03-4e18-bdcc-e3f722dc1800",
   "metadata": {},
   "source": [
    "Usando aritmética de computador con redondeo a 3 cifras significativas resuelva para ambos métodos."
   ]
  },
  {
   "cell_type": "code",
   "execution_count": 29,
   "id": "59c9e1a5-e407-4487-b79b-cde547d77b54",
   "metadata": {},
   "outputs": [
    {
     "name": "stdout",
     "output_type": "stream",
     "text": [
      "Método A:\n",
      "x = -0.012\n",
      "Error relativo = 0.412\n",
      "\n",
      "Método B:\n",
      "x = -0.012\n",
      "Error relativo = 0.103\n"
     ]
    }
   ],
   "source": [
    "# Cálculo usando el Método A\n",
    "x_a = (x[0] * y[1] - x[1] * y[0]) / (y[1] - y[0])\n",
    "\n",
    "# Valor esperado y cálculo del error relativo\n",
    "x_esperado = -0.0197\n",
    "error_a = abs((x_a - x_esperado) / x_esperado)\n",
    "\n",
    "# Redondeo a 3 cifras significativas\n",
    "x_a = round(x_a, 3)\n",
    "error_a = round(error_a, 3)\n",
    "\n",
    "# Imprimir resultados\n",
    "print(\"Método A:\")\n",
    "print(\"x =\", x_a)\n",
    "print(\"Error relativo =\", error_a)\n",
    "\n",
    "# Cálculo usando el Método B\n",
    "x_b = x[0] - ((x[1] - x[0]) * y[0]) / (y[1] - y[0])\n",
    "\n",
    "# Valor esperado y cálculo del error relativo\n",
    "x_esperado = -0.0105\n",
    "error_b = abs((x_b - x_esperado) / x_esperado)\n",
    "\n",
    "# Redondeo a 3 cifras significativas\n",
    "x_b = round(x_b, 3)\n",
    "error_b = round(error_b, 3)\n",
    "\n",
    "# Imprimir resultados\n",
    "print(\"\\nMétodo B:\")\n",
    "print(\"x =\", x_b)\n",
    "print(\"Error relativo =\", error_b)"
   ]
  },
  {
   "cell_type": "markdown",
   "id": "1b69a8eb-b4ee-46bd-92d1-841200b6a71a",
   "metadata": {},
   "source": [
    "**Conclusión:** Podemos observar como el método B presenta menos error relativo por ende es el mejor método."
   ]
  },
  {
   "cell_type": "markdown",
   "id": "b7fb2e5b-a130-471e-87b0-83aa1955d609",
   "metadata": {},
   "source": [
    "---\n",
    "\n",
    "## **Ejercicio N°2**\n",
    "\n",
    "Los primeros tres términos diferentes a cero de la serie de Maclaurin para la función arcotangente son:\n",
    "$$\n",
    "x - \\frac{1}{3}x^3 + \\frac{1}{5}x^5\n",
    "$$\n",
    "\n",
    "Calcule el error relativo en las siguientes aproximaciones de π  mediante el polinomio (en lugar del arcotangente)\n",
    "\r\n",
    "Asuma qu**e π=3.141**\n",
    "$$\n",
    "4 \\cdot \\left(\\arctan\\left(\\frac{1}{2}\\right) + \\arctan\\left(\\frac{1}{3}\\right)\\right)\n",
    "$$\n",
    "Redondee a 4 cifras significativas únicamente en la respuesta final de sus cálculos.\r\n",
    "."
   ]
  },
  {
   "cell_type": "code",
   "execution_count": 37,
   "id": "1a8a4cf6-8c7f-4b86-978b-573d6d0bc01c",
   "metadata": {},
   "outputs": [
    {
     "name": "stdout",
     "output_type": "stream",
     "text": [
      "ε = 0.0013\n"
     ]
    }
   ],
   "source": [
    "pi_real = 3.14159\n",
    "\n",
    "def arctan_approx(x):\n",
    "    return x - (1/3) * x**3 + (1/5) * x**5\n",
    "\n",
    "approximation = 4 * (arctan_approx(1/2) + arctan_approx(1/3))\n",
    "\n",
    "epsilon = abs((approximation - pi_real) / pi_real)\n",
    "\n",
    "epsilon_rounded = round(epsilon, 4)\n",
    "\n",
    "print(\"ε =\", epsilon_rounded)"
   ]
  },
  {
   "cell_type": "markdown",
   "id": "e5d749c4-4126-4a45-b430-46bd6d87ec5b",
   "metadata": {},
   "source": [
    "El orden de magnitud de este error, es decir, $\\varepsilon < 10^n, \\quad n = -3$  \n",
    "Para la siguiente formula:\n",
    "$$\n",
    "16 \\cdot \\arctan\\left(\\frac{1}{5}\\right) - 4 \\cdot \\arctan\\left(\\frac{1}{239}\\right)\n",
    "$$"
   ]
  },
  {
   "cell_type": "code",
   "execution_count": 43,
   "id": "77ca9ae9-4ae0-47a0-b9c4-5d9ba3be3257",
   "metadata": {},
   "outputs": [
    {
     "name": "stdout",
     "output_type": "stream",
     "text": [
      "ε = 0.0\n"
     ]
    }
   ],
   "source": [
    "approximation = 16 * arctan_approx(1/5) - 4 * arctan_approx(1/239)\n",
    "\n",
    "epsilon = abs((approximation - pi_real) / pi_real)\n",
    "\n",
    "epsilon_rounded = round(epsilon, 4)\n",
    "\n",
    "print(\"ε =\", epsilon_rounded)"
   ]
  },
  {
   "cell_type": "markdown",
   "id": "37d5f823-4786-4b95-93a2-a1fe55e8b66c",
   "metadata": {},
   "source": [
    "El orden de magnitud de este error, es decir, $\\varepsilon < 10^n, \\quad n = -6$"
   ]
  },
  {
   "cell_type": "markdown",
   "id": "b7f88717-05eb-4116-b9f3-9f2a66dea284",
   "metadata": {},
   "source": [
    "---\n",
    "\n",
    "## **Ejercicio N°3**\n",
    "\n",
    "El método de Newton para encontrar raíces se basa en la siguiente ecuación:\r",
    "$$\n",
    "x_{n+1} = x_n - \\\\frac{f(x_n)}{f'(x_n)}\n",
    "$$\n",
    "La ecuación a resolver es:\n",
    "$$\n",
    "x^3 + x = 1 + 3x^2\n",
    "$$\r\n"
   ]
  },
  {
   "cell_type": "code",
   "execution_count": 45,
   "id": "74ec3003-3e22-4bd0-8c43-51af094d1283",
   "metadata": {},
   "outputs": [
    {
     "name": "stdout",
     "output_type": "stream",
     "text": [
      "La raíz aproximada es: 2.769292\n"
     ]
    }
   ],
   "source": [
    "from scipy.optimize import newton\n",
    "\n",
    "# Definimos la función\n",
    "f = lambda x: x**3 + x - (1 + 3 * x**2)\n",
    "\n",
    "# Usamos el método de Newton\n",
    "x_sol = newton(f, x0=2.5)  # x0 es el valor inicial\n",
    "\n",
    "# Redondeamos el resultado a 6 cifras significativas\n",
    "x_sol = round(x_sol, 6)\n",
    "\n",
    "# Mostramos el resultado\n",
    "print(\"La raíz aproximada es:\", x_sol)"
   ]
  },
  {
   "cell_type": "markdown",
   "id": "1aaa69ba-b148-42bc-9c09-3d0c03873e65",
   "metadata": {},
   "source": [
    "Qué sucede cuando $x_0$ toma ciertos valores:"
   ]
  },
  {
   "cell_type": "code",
   "execution_count": 51,
   "id": "719adccc-0946-4378-8e59-aa33e3da5835",
   "metadata": {},
   "outputs": [
    {
     "name": "stdout",
     "output_type": "stream",
     "text": [
      "Resultado para x0 = 3: 2.7692923542387\n",
      "Resultado para x0 = 1: Error [diverge u oscila]\n",
      "Resultado para x0 = 0: Error [diverge u oscila]\n",
      "Resultado para x0 = (1 + 6**0.5) / 3: Error [diverge u oscila]\n"
     ]
    }
   ],
   "source": [
    "import math\n",
    "def f(x):\n",
    "    return x**3 + x - 1 - 3*x**2\n",
    "def f_prime(x):\n",
    "    return 3*x**2 - 6*x + 1\n",
    "def newton_method(x0, tolerance=1e-6, max_iterations=100):\n",
    "    x = x0\n",
    "    for i in range(max_iterations):\n",
    "        fx = f(x)\n",
    "        fx_prime = f_prime(x)\n",
    "        \n",
    "        if fx_prime == 0:\n",
    "            return \"Error [división por 0]\"\n",
    "        \n",
    "        x_next = x - fx / fx_prime\n",
    "        \n",
    "        if abs(x_next - x) < tolerance:\n",
    "            return x_next\n",
    "        \n",
    "        x = x_next\n",
    "    \n",
    "    return \"Error [diverge u oscila]\"\n",
    "\n",
    "x0_1 = 3\n",
    "x0_2 = 1\n",
    "x0_3 = 0\n",
    "x0_4 = (1 + 6**0.5) / 3\n",
    "result_1 = newton_method(x0_1)\n",
    "result_2 = newton_method(x0_2)\n",
    "result_3 = newton_method(x0_3)\n",
    "result_4 = newton_method(x0_4)\n",
    "print(\"Resultado para x0 = 3:\", result_1)\n",
    "print(\"Resultado para x0 = 1:\", result_2)\n",
    "print(\"Resultado para x0 = 0:\", result_3)\n",
    "print(\"Resultado para x0 = (1 + 6**0.5) / 3:\", result_4)"
   ]
  },
  {
   "cell_type": "markdown",
   "id": "88d0fdeb-8ab2-4a0b-b740-55889da06c16",
   "metadata": {},
   "source": [
    "---\n",
    "\n",
    "## **Ejercicio N°4**\n",
    "\n",
    "El método de la Secante se basa en la siguiente fórmula: \n",
    "$$\n",
    "x_n = x_{n-1} - \\frac{y_{n-1}(x_{n-1} - x_{n-2})}{y_{n-1} - y_{n-2}}\n",
    "$$\n",
    "\n",
    "El proposito en este ejercicio es solucionar el proble en el codigo porporsionado\n",
    "**Problema:** El código funciona correctamente. Sin embargo, al depurarlo y profundizar en su ejecución, usted ha notado que el código realiza llamadas repetitivas e innecesarias. \n",
    "\n",
    "**CÓDIGO SOLUCIONADO:**\n",
    "\n",
    "### Ejemplo 1:"
   ]
  },
  {
   "cell_type": "code",
   "execution_count": 55,
   "id": "f371d3f3-5c12-4040-9c39-5b0c36d4c242",
   "metadata": {},
   "outputs": [
    {
     "name": "stdout",
     "output_type": "stream",
     "text": [
      "Llamada i=1\t x=2.00000\t y=-3.00\n",
      "Llamada i=2\t x=3.00000\t y=2.00\n",
      "Llamada i=3\t x=2.60000\t y=-1.10\n",
      "Llamada i=4\t x=2.74227\t y=-0.20\n",
      "Llamada i=5\t x=2.77296\t y=0.03\n",
      "Llamada i=6\t x=2.76922\t y=-0.00\n",
      "Llamada i=7\t x=2.76929\t y=-0.00\n",
      "Llamada i=8\t x=2.76929\t y=0.00\n",
      "\n",
      "Raíz encontrada: 2.769292\n",
      "Total de iteraciones: 6\n"
     ]
    }
   ],
   "source": [
    "def secant_method(f, x0, x1, tol=1e-6, max_iter=100):\n",
    "    x_prev = x0\n",
    "    x_curr = x1\n",
    "    f_prev = f(x_prev)\n",
    "    f_curr = f(x_curr)\n",
    "    iter_count = 0\n",
    "\n",
    "    while abs(f_curr) > tol and iter_count < max_iter:\n",
    "        x_next = x_curr - f_curr * (x_curr - x_prev) / (f_curr - f_prev)\n",
    "\n",
    "        x_prev, x_curr = x_curr, x_next\n",
    "        f_prev, f_curr = f_curr, f(x_next)\n",
    "        iter_count += 1\n",
    "\n",
    "    return x_curr, iter_count\n",
    "\n",
    "i = 0\n",
    "\n",
    "def func(x):\n",
    "    global i\n",
    "    i += 1\n",
    "    y = x**3 - 3 * x**2 + x - 1\n",
    "    print(f\"Llamada i={i}\\t x={x:.5f}\\t y={y:.2f}\")\n",
    "    return y\n",
    "\n",
    "root, iterations = secant_method(func, x0=2, x1=3)\n",
    "\n",
    "print(f\"\\nRaíz encontrada: {root:.6f}\")\n",
    "print(f\"Total de iteraciones: {iterations}\")"
   ]
  },
  {
   "cell_type": "markdown",
   "id": "57ee5fab-3377-403c-ae8e-2d0082395f7d",
   "metadata": {},
   "source": [
    "### Ejemplo 2:"
   ]
  },
  {
   "cell_type": "code",
   "execution_count": 59,
   "id": "2075e99a-21cb-46f4-a0d8-d5c4527790b7",
   "metadata": {},
   "outputs": [
    {
     "name": "stdout",
     "output_type": "stream",
     "text": [
      "Llamada i=1\t x=2.00000\t y=1.41\n",
      "Llamada i=2\t x=3.00000\t y=0.64\n",
      "Llamada i=3\t x=3.83460\t y=-0.14\n",
      "Llamada i=4\t x=3.68602\t y=-0.02\n",
      "Llamada i=5\t x=3.66399\t y=0.00\n",
      "Llamada i=6\t x=3.66520\t y=-0.00\n",
      "Llamada i=7\t x=3.66519\t y=-0.00\n"
     ]
    },
    {
     "data": {
      "text/plain": [
       "(3.66519143172732, 5)"
      ]
     },
     "execution_count": 59,
     "metadata": {},
     "output_type": "execute_result"
    }
   ],
   "source": [
    "i=0\n",
    "def func(x):\n",
    "    global i\n",
    "    i += 1\n",
    "    y = math.sin(x) + 0.5\n",
    "    print(f\"Llamada i={i}\\t x={x:.5f}\\t y={y:.2f}\")\n",
    "    return y\n",
    "\n",
    "\n",
    "secant_method(func, x0=2, x1=3)"
   ]
  },
  {
   "cell_type": "markdown",
   "id": "20e6020b-a54a-4ef7-8597-2f237cf00368",
   "metadata": {},
   "source": [
    "**CONTESTE:**\n",
    "¿Cuál es el número mínimo de llamadas a la función para llegar a la raíz en el Ejemplo 1?  \n",
    "$ i = 8 $  \n",
    "¿Cuál es el número mínimo de llamadas a la función para llegar a la raíz en el Ejemplo 2?  \n",
    "$ i = 7 $  "
   ]
  },
  {
   "cell_type": "markdown",
   "id": "120fdf9e-924b-47a8-aed9-00d11bd385d5",
   "metadata": {},
   "source": [
    "---\n",
    "\n",
    "## **Ejercicio N°5**\n",
    "\n",
    "La función sin(x) tiene infinitas soluciones {...,−2π,−π,0,π,2π,...}. ¿A cuál solución converge el método de la Bisección en los siguientes intervalos?"
   ]
  },
  {
   "cell_type": "code",
   "execution_count": 63,
   "id": "59cf648b-ae8e-43c9-9a4f-6ba726eed42a",
   "metadata": {},
   "outputs": [
    {
     "name": "stdout",
     "output_type": "stream",
     "text": [
      "Resultado para el intervalo a=-1, b=2: -9.5367431640625e-07\n",
      "Resultado para el intervalo a=-4, b=5: 3.141591787338257\n",
      "Resultado para el intervalo a=3, b=5: 3.141592025756836\n",
      "Resultado para el intervalo a=-3.5, b=3: Error [sin cambio de signo]\n",
      "Resultado para el intervalo a=-5, b=4: -3.141591787338257\n",
      "Resultado para el intervalo a=-2.5, b=-1: Error [sin cambio de signo]\n"
     ]
    }
   ],
   "source": [
    "def f(x):\n",
    "    return math.sin(x)\n",
    "\n",
    "def bisection_method(a, b, tolerance=1e-6, max_iterations=100):\n",
    "    if f(a) * f(b) > 0:\n",
    "        return \"Error [sin cambio de signo]\"\n",
    "    \n",
    "    for i in range(max_iterations):\n",
    "        c = (a + b) / 2\n",
    "        if abs(f(c)) < tolerance:\n",
    "            return c\n",
    "        \n",
    "        if f(c) * f(a) < 0:\n",
    "            b = c\n",
    "        else:\n",
    "            a = c\n",
    "    \n",
    "    return \"Error [división para 0]\"\n",
    "\n",
    "# Casos de prueba\n",
    "intervalos = [\n",
    "    (-1, 2),\n",
    "    (-4, 5),\n",
    "    (3, 5),\n",
    "    (-3.5, 3),\n",
    "    (-5, 4),\n",
    "    (-2.5, -1)\n",
    "]\n",
    "\n",
    "for i, (a, b) in enumerate(intervalos):\n",
    "    resultado = bisection_method(a, b)\n",
    "    print(f\"Resultado para el intervalo a={a}, b={b}: {resultado}\")"
   ]
  },
  {
   "cell_type": "markdown",
   "id": "4cd93468-e121-4e00-af39-f556dc5dc976",
   "metadata": {},
   "source": [
    "---\n",
    "\n",
    "## **Ejercicio N°6**\n",
    "\n",
    "Dados los puntos (−1,1),(0,5),(1,3) se ha obtenido los splines cúbicos correspondientes. \n",
    "Sin embargo, al observar la figura, usted no se siente satisfecho con la pendiente resultante en el punto (x1,y1). Y decide intentar una modificación a las ecuaciones, tal que los splines sean tangentes a una pendiente deseada m en el punto (x1,y1).  \n",
    "* \\( S_0(x_1) = y_1 \\)  \n",
    "  \\( a_0 + b_0(x_1 - x_0) + c_0(x_1 - x_0)^2 + d_0(x_1 - x_0)^3 = 5 \\)\n",
    "\n",
    "* \\( S_1(x_1) = y_1 \\)  \n",
    "  \\( a_1 + b_1(x_1 - x_1) + \\dots = 1 \\)  \n",
    "  \\( a_1 = 5 \\)\n",
    "\n",
    "* \\( S_0'(x_1) = S_1'(x_1) = -2 \\)\n",
    "\n",
    "* \\( S_0(x_0) = y_0 \\)  \n",
    "  \\( a_0 + b_0(x_0 - x_0) + c_0(x_0 - x_0)^2 + d_0(x_0 - x_0)^3 \\)  \n",
    "  \\( a_0 = 1 \\)\n",
    "\n",
    "* \\( S_0''(x_0) = 0 \\)\n",
    "\n",
    "* \\( S_1(x_2) = y_2 \\)  \n",
    "  \\( 5 + b_1(x_2 - x_1) + c_1(x_2 - x_1)^2 + d_1(x_2 - x_1)^3 = 3 \\)  \n",
    "  \\( -2 = b_1 + c_1 + d_1 \\)\n",
    "\n",
    "=> \\( m = 2 \\)  \n",
    "  \\( S_1'(x_1) = b_1 \\)\n",
    "\n",
    "Valores:\n",
    "\n",
    "* $b_1 = -2$\n",
    "* $c_0 = 0$\n",
    "* $a_1 = 5$\n",
    "* $a_0 = 1$\n",
    "* $c_1 = 0$\n",
    "* $b_0 = 7$\n",
    "* $d_0 = -3$\n",
    "* $d_1 = 0$\n",
    "\n",
    "\n",
    "### RESOLUCIÓN DEL CÓDIGO:"
   ]
  },
  {
   "cell_type": "code",
   "execution_count": 89,
   "id": "4cab4350-75e6-4a08-9678-e9f79615352a",
   "metadata": {},
   "outputs": [
    {
     "data": {
      "image/png": "[encoded data removed]",
      "text/plain": [
       "<Figure size 640x480 with 1 Axes>"
      ]
     },
     "metadata": {},
     "output_type": "display_data"
    }
   ],
   "source": [
    "def Spline(x: float, x0: float, pars: dict[str, float]) -> float:\n",
    "    a = pars[\"a\"]\n",
    "    b = pars[\"b\"]\n",
    "    c = pars[\"c\"]\n",
    "    d = pars[\"d\"]\n",
    "    return a + b * (x - x0) + c * (x - x0) ** 2 + d * (x - x0) ** 3\n",
    "\n",
    "import matplotlib.pyplot as plt\n",
    "import numpy as np\n",
    "\n",
    "xs = [-1, 0, 1]\n",
    "ys = [1, 5, 3]\n",
    "s = [\n",
    "    {\"a\": 1, \"b\": 7, \"c\": 0, \"d\": -3},\n",
    "    {\"a\": 5, \"b\": -2, \"c\": 0, \"d\": 0},\n",
    "]\n",
    "for i, x_i in enumerate(xs[:-1]):\n",
    "    _x = np.linspace(x_i, xs[i + 1], 20)\n",
    "    _y = Spline(_x, x_i, s[i])\n",
    "    plt.plot(_x, _y, color=\"red\")\n",
    "\n",
    "plt.scatter(xs, ys)\n",
    "plt.xlabel(\"x\")\n",
    "plt.ylabel(\"y\")\n",
    "plt.title(\"Interpolación con splines cúbicos\")\n",
    "plt.show()"
   ]
  },
  {
   "cell_type": "markdown",
   "id": "ca6f4536-d980-4bf9-aeaa-8dd6b4c8b388",
   "metadata": {},
   "source": [
    "**Solución de los spines:**\n",
    "\n",
    "$ S_0(x) = 1 + 7 * (x + 1) + 0 * (x + 1) ** 2 - 3 * (x + 1) ** 3 $\n",
    "\n",
    "$ S_1(x) = 5 - 2 * (x) + 0 * (x) ** 2 + 0 * (x) ** 3 $"
   ]
  },
  {
   "cell_type": "markdown",
   "id": "718fdff8-fae4-4232-acd4-448082474f96",
   "metadata": {},
   "source": [
    "---\n",
    "\n",
    "## **Ejercicio N°7**\n",
    "\n",
    "Dados los puntos (−1,1),(1,3).  Determine el spline cúbico teniendo en cuenta qu  f′(_x0)=1,f′(_xn)2\n",
    "."
   ]
  },
  {
   "cell_type": "markdown",
   "id": "759fe3ea-3dcb-47fa-9546-07bfe345c909",
   "metadata": {},
   "source": [
    "#### 1. Valor del spline en $ x_0 = -1 $:\n",
    "$$\n",
    "S(-1) = a + b(-1 - (-1)) + c(-1 - (-1))^2 + d(-1 - (-1))^3 = 1\n",
    "$$\n",
    "Esto da:\n",
    "$$\n",
    "a = 1\n",
    "$$\n",
    "\n",
    "#### 2. Derivada del spline en $ x_0 = -1 $:\n",
    "$$\n",
    "S'(-1) = b + 2c(-1 - (-1)) + 3d(-1 - (-1))^2 = 1\n",
    "$$\n",
    "Esto da:\n",
    "$$\n",
    "b = 1\n",
    "$$\n",
    "\n",
    "#### 3. Valor del spline en $ x_n = 1 $:\n",
    "$$\n",
    "S(1) = a + b(1 - (-1)) + c(1 - (-1))^2 + d(1 - (-1))^3 = 3\n",
    "$$\n",
    "\n",
    "#### Resolviendo el sistema:\n",
    "\n",
    "- \\( a = 1 \\)\n",
    "- \\( b = 1 \\)\n",
    "- \\( c = -\\frac{1}{2} \\)\n",
    "- \\( d = \\frac{1}{4} \\)\n",
    "\n",
    "### Fórmula final del spline cúbico:\n",
    "$$\n",
    "S(x) = 1 + (x + 1) - \\frac{1}{2}(x + 1)^2 + \\frac{1}{4}(x + 1)^3\n",
    "$$"
   ]
  },
  {
   "cell_type": "markdown",
   "id": "0acc3ef1-5e09-472c-913a-3662499d5ae8",
   "metadata": {},
   "source": [
    "---\n",
    "\n",
    "## **Ejercicio N°8**\n",
    "\n",
    "La interpolación de un conjunto de puntos usando polinomios de Lagrange P(x) está dada por la fórmula:  \n",
    "$$\n",
    "P(x) = \\sum_{k=0}^{n} f(x_k) L_k(x)\n",
    "$$"
   ]
  },
  {
   "cell_type": "markdown",
   "id": "76f450ba-14f7-4202-b0bb-a933746ea976",
   "metadata": {},
   "source": [
    "Donde:  \n",
    "$$\n",
    "L_k(x) = \\prod_{i=0, i \\neq k}^{n} \\frac{x-x_i}{x_k-x_i}\n",
    "$$"
   ]
  },
  {
   "cell_type": "markdown",
   "id": "891047c0-069b-4fb3-b588-59acb7a6d4fc",
   "metadata": {},
   "source": [
    "Dados los puntos (0,0),(1,1),(2,2),(3,3)\n",
    "El polinomio resultante simplificado tiene orden = 3\n",
    "Encuentre el polinomio de Lagrange respectivo, (simplifique la expresión para facilitar la evaluación) $ P(x)= x $\n",
    "\n",
    "Usando el polinomio P(x)  que obtuvo de respuesta, calcule  \n",
    "$ P(x=3.78)= 3.78 $  \n",
    "$ P(x=19.102)= 19.102 $:"
   ]
  },
  {
   "cell_type": "code",
   "execution_count": null,
   "id": "471bbae7-6fd3-4de2-87b9-3ea436074d4b",
   "metadata": {},
   "outputs": [],
   "source": []
  }
 ],
 "metadata": {
  "kernelspec": {
   "display_name": "Python 3 (ipykernel)",
   "language": "python",
   "name": "python3"
  },
  "language_info": {
   "codemirror_mode": {
    "name": "ipython",
    "version": 3
   },
   "file_extension": ".py",
   "mimetype": "text/x-python",
   "name": "python",
   "nbconvert_exporter": "python",
   "pygments_lexer": "ipython3",
   "version": "3.12.4"
  }
 },
 "nbformat": 4,
 "nbformat_minor": 5
}
