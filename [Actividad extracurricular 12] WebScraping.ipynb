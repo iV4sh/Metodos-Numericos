{
 "cells": [
  {
   "cell_type": "markdown",
   "metadata": {},
   "source": [
    "# Actividad extracurricular [12]\n",
    "### *Métodos Numéricos*\n",
    "## Web Scraping\n",
    "\n",
    "* **Nombre:** Michael Enríquez\n",
    "* **Fecha:** Martes 07 de enero, 2025\n",
    "---"
   ]
  },
  {
   "cell_type": "markdown",
   "metadata": {},
   "source": [
    "## ¿Qué es Web Scraping?\n",
    "\n",
    "El web scraping es una técnica automatizada utilizada para extraer información de sitios web. Se basa en el uso de programas o scripts que navegan por páginas web, descargan su contenido y lo procesan para obtener datos estructurados como texto, imágenes o enlaces. Los datos analizados generalmente es la extracción del codigo HTML de la pagina, una vez analizada se exportan los datos de interes en formato Json o CSV.\n",
    "\n",
    "---"
   ]
  },
  {
   "cell_type": "markdown",
   "metadata": {},
   "source": [
    "## Prueba en python para dos librerias diferentes\n",
    "\n",
    "*Sitio de pruebas:* https://quotes.toscrape.com/\n",
    "\n",
    "1. BeautifulSoup\n",
    "Una librería que facilita la extracción y el análisis de datos de documentos HTML y XML"
   ]
  },
  {
   "cell_type": "code",
   "execution_count": 2,
   "metadata": {},
   "outputs": [
    {
     "name": "stdout",
     "output_type": "stream",
     "text": [
      "Cita: “The world as we have created it is a process of our thinking. It cannot be changed without changing our thinking.”\n",
      "Autor: Albert Einstein\n",
      "\n",
      "Cita: “It is our choices, Harry, that show what we truly are, far more than our abilities.”\n",
      "Autor: J.K. Rowling\n",
      "\n",
      "Cita: “There are only two ways to live your life. One is as though nothing is a miracle. The other is as though everything is a miracle.”\n",
      "Autor: Albert Einstein\n",
      "\n",
      "Cita: “The person, be it gentleman or lady, who has not pleasure in a good novel, must be intolerably stupid.”\n",
      "Autor: Jane Austen\n",
      "\n",
      "Cita: “Imperfection is beauty, madness is genius and it's better to be absolutely ridiculous than absolutely boring.”\n",
      "Autor: Marilyn Monroe\n",
      "\n",
      "Cita: “Try not to become a man of success. Rather become a man of value.”\n",
      "Autor: Albert Einstein\n",
      "\n",
      "Cita: “It is better to be hated for what you are than to be loved for what you are not.”\n",
      "Autor: André Gide\n",
      "\n",
      "Cita: “I have not failed. I've just found 10,000 ways that won't work.”\n",
      "Autor: Thomas A. Edison\n",
      "\n",
      "Cita: “A woman is like a tea bag; you never know how strong it is until it's in hot water.”\n",
      "Autor: Eleanor Roosevelt\n",
      "\n",
      "Cita: “A day without sunshine is like, you know, night.”\n",
      "Autor: Steve Martin\n",
      "\n"
     ]
    }
   ],
   "source": [
    "from bs4 import BeautifulSoup\n",
    "import requests\n",
    "\n",
    "# URL del sitio web\n",
    "url = \"https://quotes.toscrape.com/\"\n",
    "response = requests.get(url)\n",
    "\n",
    "# Parsear el contenido HTML con BeautifulSoup\n",
    "soup = BeautifulSoup(response.content, \"html.parser\")\n",
    "\n",
    "# Extraer citas y autores\n",
    "quotes = soup.find_all(\"div\", class_=\"quote\")\n",
    "\n",
    "for quote in quotes:\n",
    "    text = quote.find(\"span\", class_=\"text\").get_text()\n",
    "    author = quote.find(\"small\", class_=\"author\").get_text()\n",
    "    print(f\"Cita: {text}\\nAutor: {author}\\n\")"
   ]
  },
  {
   "cell_type": "markdown",
   "metadata": {},
   "source": [
    "2. Scrapy\n",
    "\n",
    "Una Herramienta de Scraping mas potente para paginas dinamicas y extensibles"
   ]
  },
  {
   "cell_type": "code",
   "execution_count": 1,
   "metadata": {},
   "outputs": [
    {
     "name": "stderr",
     "output_type": "stream",
     "text": [
      "2025-01-07 18:59:08 [scrapy.utils.log] INFO: Scrapy 2.12.0 started (bot: scrapybot)\n",
      "2025-01-07 18:59:08 [scrapy.utils.log] INFO: Versions: lxml 5.3.0.0, libxml2 2.11.7, cssselect 1.2.0, parsel 1.9.1, w3lib 2.2.1, Twisted 24.11.0, Python 3.13.1 (tags/v3.13.1:0671451, Dec  3 2024, 19:06:28) [MSC v.1942 64 bit (AMD64)], pyOpenSSL 24.3.0 (OpenSSL 3.4.0 22 Oct 2024), cryptography 44.0.0, Platform Windows-11-10.0.26100-SP0\n",
      "2025-01-07 18:59:08 [scrapy.addons] INFO: Enabled addons:\n",
      "[]\n",
      "2025-01-07 18:59:08 [scrapy.utils.log] DEBUG: Using reactor: twisted.internet.selectreactor.SelectReactor\n",
      "2025-01-07 18:59:08 [scrapy.extensions.telnet] INFO: Telnet Password: 292b159f8ee7469e\n",
      "2025-01-07 18:59:08 [scrapy.middleware] INFO: Enabled extensions:\n",
      "['scrapy.extensions.corestats.CoreStats',\n",
      " 'scrapy.extensions.telnet.TelnetConsole',\n",
      " 'scrapy.extensions.logstats.LogStats']\n",
      "2025-01-07 18:59:08 [scrapy.crawler] INFO: Overridden settings:\n",
      "{}\n",
      "2025-01-07 18:59:09 [scrapy.middleware] INFO: Enabled downloader middlewares:\n",
      "['scrapy.downloadermiddlewares.offsite.OffsiteMiddleware',\n",
      " 'scrapy.downloadermiddlewares.httpauth.HttpAuthMiddleware',\n",
      " 'scrapy.downloadermiddlewares.downloadtimeout.DownloadTimeoutMiddleware',\n",
      " 'scrapy.downloadermiddlewares.defaultheaders.DefaultHeadersMiddleware',\n",
      " 'scrapy.downloadermiddlewares.useragent.UserAgentMiddleware',\n",
      " 'scrapy.downloadermiddlewares.retry.RetryMiddleware',\n",
      " 'scrapy.downloadermiddlewares.redirect.MetaRefreshMiddleware',\n",
      " 'scrapy.downloadermiddlewares.httpcompression.HttpCompressionMiddleware',\n",
      " 'scrapy.downloadermiddlewares.redirect.RedirectMiddleware',\n",
      " 'scrapy.downloadermiddlewares.cookies.CookiesMiddleware',\n",
      " 'scrapy.downloadermiddlewares.httpproxy.HttpProxyMiddleware',\n",
      " 'scrapy.downloadermiddlewares.stats.DownloaderStats']\n",
      "2025-01-07 18:59:09 [scrapy.middleware] INFO: Enabled spider middlewares:\n",
      "['scrapy.spidermiddlewares.httperror.HttpErrorMiddleware',\n",
      " 'scrapy.spidermiddlewares.referer.RefererMiddleware',\n",
      " 'scrapy.spidermiddlewares.urllength.UrlLengthMiddleware',\n",
      " 'scrapy.spidermiddlewares.depth.DepthMiddleware']\n",
      "2025-01-07 18:59:09 [scrapy.middleware] INFO: Enabled item pipelines:\n",
      "[]\n",
      "2025-01-07 18:59:09 [scrapy.core.engine] INFO: Spider opened\n",
      "2025-01-07 18:59:09 [scrapy.extensions.logstats] INFO: Crawled 0 pages (at 0 pages/min), scraped 0 items (at 0 items/min)\n",
      "2025-01-07 18:59:09 [scrapy.extensions.telnet] INFO: Telnet console listening on 127.0.0.1:6023\n",
      "2025-01-07 18:59:09 [scrapy.core.engine] DEBUG: Crawled (200) <GET https://quotes.toscrape.com/> (referer: None)\n",
      "2025-01-07 18:59:10 [scrapy.core.engine] INFO: Closing spider (finished)\n",
      "2025-01-07 18:59:10 [scrapy.statscollectors] INFO: Dumping Scrapy stats:\n",
      "{'downloader/request_bytes': 220,\n",
      " 'downloader/request_count': 1,\n",
      " 'downloader/request_method_count/GET': 1,\n",
      " 'downloader/response_bytes': 11249,\n",
      " 'downloader/response_count': 1,\n",
      " 'downloader/response_status_count/200': 1,\n",
      " 'elapsed_time_seconds': 0.584284,\n",
      " 'finish_reason': 'finished',\n",
      " 'finish_time': datetime.datetime(2025, 1, 7, 23, 59, 10, 69213, tzinfo=datetime.timezone.utc),\n",
      " 'items_per_minute': None,\n",
      " 'log_count/DEBUG': 2,\n",
      " 'log_count/INFO': 10,\n",
      " 'response_received_count': 1,\n",
      " 'responses_per_minute': None,\n",
      " 'scheduler/dequeued': 1,\n",
      " 'scheduler/dequeued/memory': 1,\n",
      " 'scheduler/enqueued': 1,\n",
      " 'scheduler/enqueued/memory': 1,\n",
      " 'start_time': datetime.datetime(2025, 1, 7, 23, 59, 9, 484929, tzinfo=datetime.timezone.utc)}\n",
      "2025-01-07 18:59:10 [scrapy.core.engine] INFO: Spider closed (finished)\n"
     ]
    },
    {
     "name": "stdout",
     "output_type": "stream",
     "text": [
      "Cita: “The world as we have created it is a process of our thinking. It cannot be changed without changing our thinking.”\n",
      "Autor: Albert Einstein\n",
      "Etiquetas: ['change', 'deep-thoughts', 'thinking', 'world']\n",
      "--------------------------------------------------\n",
      "Cita: “It is our choices, Harry, that show what we truly are, far more than our abilities.”\n",
      "Autor: J.K. Rowling\n",
      "Etiquetas: ['abilities', 'choices']\n",
      "--------------------------------------------------\n",
      "Cita: “There are only two ways to live your life. One is as though nothing is a miracle. The other is as though everything is a miracle.”\n",
      "Autor: Albert Einstein\n",
      "Etiquetas: ['inspirational', 'life', 'live', 'miracle', 'miracles']\n",
      "--------------------------------------------------\n",
      "Cita: “The person, be it gentleman or lady, who has not pleasure in a good novel, must be intolerably stupid.”\n",
      "Autor: Jane Austen\n",
      "Etiquetas: ['aliteracy', 'books', 'classic', 'humor']\n",
      "--------------------------------------------------\n",
      "Cita: “Imperfection is beauty, madness is genius and it's better to be absolutely ridiculous than absolutely boring.”\n",
      "Autor: Marilyn Monroe\n",
      "Etiquetas: ['be-yourself', 'inspirational']\n",
      "--------------------------------------------------\n",
      "Cita: “Try not to become a man of success. Rather become a man of value.”\n",
      "Autor: Albert Einstein\n",
      "Etiquetas: ['adulthood', 'success', 'value']\n",
      "--------------------------------------------------\n",
      "Cita: “It is better to be hated for what you are than to be loved for what you are not.”\n",
      "Autor: André Gide\n",
      "Etiquetas: ['life', 'love']\n",
      "--------------------------------------------------\n",
      "Cita: “I have not failed. I've just found 10,000 ways that won't work.”\n",
      "Autor: Thomas A. Edison\n",
      "Etiquetas: ['edison', 'failure', 'inspirational', 'paraphrased']\n",
      "--------------------------------------------------\n",
      "Cita: “A woman is like a tea bag; you never know how strong it is until it's in hot water.”\n",
      "Autor: Eleanor Roosevelt\n",
      "Etiquetas: ['misattributed-eleanor-roosevelt']\n",
      "--------------------------------------------------\n",
      "Cita: “A day without sunshine is like, you know, night.”\n",
      "Autor: Steve Martin\n",
      "Etiquetas: ['humor', 'obvious', 'simile']\n",
      "--------------------------------------------------\n"
     ]
    }
   ],
   "source": [
    "from scrapy.crawler import CrawlerProcess\n",
    "from scrapy import Spider\n",
    "\n",
    "# Definir el Spider\n",
    "class QuotesSpider(Spider):\n",
    "    name = \"quotes\"\n",
    "    start_urls = ['https://quotes.toscrape.com/']\n",
    "\n",
    "    def parse(self, response):\n",
    "        for quote in response.css('div.quote'):\n",
    "            text = quote.css('span.text::text').get()\n",
    "            author = quote.css('small.author::text').get()\n",
    "            tags = quote.css('div.tags a.tag::text').getall()\n",
    "            \n",
    "            # Imprimir los resultados en la consola\n",
    "            print(f\"Cita: {text}\")\n",
    "            print(f\"Autor: {author}\")\n",
    "            print(f\"Etiquetas: {tags}\")\n",
    "            print(\"-\" * 50)\n",
    "\n",
    "# Configurar y ejecutar el proceso\n",
    "process = CrawlerProcess()\n",
    "process.crawl(QuotesSpider)\n",
    "process.start()"
   ]
  },
  {
   "cell_type": "markdown",
   "metadata": {},
   "source": [
    "## Pruebas con una pagina de mi elección\n",
    "\n",
    "*Sitio Web:* http://books.toscrape.com/"
   ]
  },
  {
   "cell_type": "code",
   "execution_count": 4,
   "metadata": {},
   "outputs": [
    {
     "name": "stderr",
     "output_type": "stream",
     "text": [
      "2025-01-07 19:10:29 [urllib3.connectionpool] DEBUG: Starting new HTTP connection (1): books.toscrape.com:80\n",
      "2025-01-07 19:10:30 [urllib3.connectionpool] DEBUG: http://books.toscrape.com:80 \"GET / HTTP/1.1\" 200 51294\n"
     ]
    },
    {
     "name": "stdout",
     "output_type": "stream",
     "text": [
      "Nombre del libro: A Light in the Attic\n",
      "Nombre del libro: Tipping the Velvet\n",
      "Nombre del libro: Soumission\n",
      "Nombre del libro: Sharp Objects\n",
      "Nombre del libro: Sapiens: A Brief History of Humankind\n",
      "Nombre del libro: The Requiem Red\n",
      "Nombre del libro: The Dirty Little Secrets of Getting Your Dream Job\n",
      "Nombre del libro: The Coming Woman: A Novel Based on the Life of the Infamous Feminist, Victoria Woodhull\n",
      "Nombre del libro: The Boys in the Boat: Nine Americans and Their Epic Quest for Gold at the 1936 Berlin Olympics\n",
      "Nombre del libro: The Black Maria\n",
      "Nombre del libro: Starving Hearts (Triangular Trade Trilogy, #1)\n",
      "Nombre del libro: Shakespeare's Sonnets\n",
      "Nombre del libro: Set Me Free\n",
      "Nombre del libro: Scott Pilgrim's Precious Little Life (Scott Pilgrim #1)\n",
      "Nombre del libro: Rip it Up and Start Again\n",
      "Nombre del libro: Our Band Could Be Your Life: Scenes from the American Indie Underground, 1981-1991\n",
      "Nombre del libro: Olio\n",
      "Nombre del libro: Mesaerion: The Best Science Fiction Stories 1800-1849\n",
      "Nombre del libro: Libertarianism for Beginners\n",
      "Nombre del libro: It's Only the Himalayas\n"
     ]
    }
   ],
   "source": [
    "import requests\n",
    "from bs4 import BeautifulSoup\n",
    "\n",
    "# URL de la página de Books to Scrape\n",
    "url = 'http://books.toscrape.com/'\n",
    "\n",
    "# Realizar una solicitud GET a la página\n",
    "response = requests.get(url)\n",
    "response.raise_for_status()  # Asegurarse de que la solicitud sea exitosa\n",
    "\n",
    "# Analizar el contenido HTML con BeautifulSoup\n",
    "soup = BeautifulSoup(response.text, 'html.parser')\n",
    "\n",
    "# Buscar los nombres de los libros\n",
    "productos = soup.find_all('h3')\n",
    "\n",
    "# Extraer y mostrar los nombres de los libros\n",
    "for producto in productos:\n",
    "    nombre = producto.find('a')['title']\n",
    "    print(f\"Nombre del libro: {nombre}\")\n",
    "\n"
   ]
  }
 ],
 "metadata": {
  "kernelspec": {
   "display_name": "Python 3",
   "language": "python",
   "name": "python3"
  },
  "language_info": {
   "codemirror_mode": {
    "name": "ipython",
    "version": 3
   },
   "file_extension": ".py",
   "mimetype": "text/x-python",
   "name": "python",
   "nbconvert_exporter": "python",
   "pygments_lexer": "ipython3",
   "version": "3.13.1"
  }
 },
 "nbformat": 4,
 "nbformat_minor": 2
}
